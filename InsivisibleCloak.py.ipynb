{
 "cells": [
  {
   "cell_type": "code",
   "execution_count": 1,
   "id": "cba0b163",
   "metadata": {},
   "outputs": [
    {
     "name": "stdout",
     "output_type": "stream",
     "text": [
      "Requirement already satisfied: opencv-python in d:\\anaconda\\lib\\site-packages (4.5.3.56)\n",
      "Requirement already satisfied: numpy>=1.17.3 in d:\\anaconda\\lib\\site-packages (from opencv-python) (1.20.1)\n"
     ]
    }
   ],
   "source": [
    "!Pip install opencv-python"
   ]
  },
  {
   "cell_type": "code",
   "execution_count": 2,
   "id": "82e72bb1",
   "metadata": {},
   "outputs": [],
   "source": [
    "import cv2\n",
    "import numpy as np\n",
    "import time"
   ]
  },
  {
   "cell_type": "code",
   "execution_count": 6,
   "id": "152ac36b",
   "metadata": {
    "scrolled": true
   },
   "outputs": [
    {
     "name": "stdout",
     "output_type": "stream",
     "text": [
      "not available\n",
      "Camera index available: 1\n",
      "not available\n",
      "not available\n",
      "not available\n",
      "not available\n",
      "not available\n",
      "not available\n",
      "not available\n",
      "not available\n"
     ]
    }
   ],
   "source": [
    "#check for available camera\n",
    "\n",
    "all_camera_idx_available = []\n",
    "\n",
    "for camera_idx in range(10):\n",
    "    cap = cv2.VideoCapture(camera_idx,cv2.CAP_DSHOW)\n",
    "    if cap.isOpened():\n",
    "        print(f'Camera index available: {camera_idx}')\n",
    "        all_camera_idx_available.append(camera_idx)\n",
    "        cap.release()\n",
    "    else:\n",
    "        print(\"not available\")"
   ]
  },
  {
   "cell_type": "code",
   "execution_count": 7,
   "id": "09e64bba",
   "metadata": {},
   "outputs": [
    {
     "name": "stdout",
     "output_type": "stream",
     "text": [
      "True\n"
     ]
    }
   ],
   "source": [
    "# now capture the video  check for avialble camera devices as mentioned above\n",
    "video = cv2.VideoCapture(0)\n",
    "print(video.isOpened())\n",
    "time.sleep(3) #timer to on the cam"
   ]
  },
  {
   "cell_type": "markdown",
   "id": "465c2a38",
   "metadata": {},
   "source": [
    "<img src=\"https://answers.opencv.org/upfiles/15186766673210035.png\"/>"
   ]
  },
  {
   "cell_type": "code",
   "execution_count": 8,
   "id": "7971041b",
   "metadata": {},
   "outputs": [],
   "source": [
    "for i in range(60): #loopig to get a good image\n",
    "    rel,background = video.read() #read the background\n",
    "if not rel:\n",
    "    raise RuntimeError(\"Couldn't capture an image\")\n",
    "\n",
    "background = np.flip(background, axis=1) #filp the captured img"
   ]
  },
  {
   "cell_type": "code",
   "execution_count": 9,
   "id": "f1ce3c3b",
   "metadata": {},
   "outputs": [],
   "source": [
    "while(video.isOpened()): # untill the video is opren\n",
    "    rel,img=video.read()\n",
    "    if rel==False:\n",
    "        break #checking weather its working\n",
    "    img=np.flip(img,axis=1)\n",
    "\n",
    "    hsv = cv2.cvtColor(img, cv2.COLOR_BGR2HSV) #convert to hsv detect colours better\n",
    "    \n",
    "    lower_red = np.array([0,120,50])\n",
    "    upper_red = np.array([10,255,255])\n",
    "    mask1 = cv2.inRange(hsv, lower_red, upper_red)\n",
    "    lower_red = np.array([170,120,70])  #range for red we want\n",
    "    upper_red = np.array([180,255,255]) \n",
    "    mask2 = cv2.inRange(hsv, lower_red, upper_red)\n",
    "\n",
    "    mask1 = mask1+mask2 #detect all ranges of red\n",
    "\n",
    "    mask1 = cv2.morphologyEx(mask1, cv2.MORPH_OPEN, np.ones((3,3), np.uint8),iterations=2) #removing the noice from data \n",
    "    mask1 = cv2.morphologyEx(mask1, cv2.MORPH_DILATE, np.ones((3,3), np.uint8))\n",
    "    mask2 = cv2.bitwise_not(mask1)\n",
    "    res1 = cv2.bitwise_and(img,img, mask=mask2) #person who holds the cloak \n",
    "    res2 = cv2.bitwise_and(background,background, mask=mask1) \n",
    "    \n",
    "#to replace the background image in place of the colour red combining results\n",
    "    final = cv2.addWeighted(res1, 1, res2, 1, 0) \n",
    "    cv2.imshow(\"final\",final)\n",
    "    key = cv2.waitKey(1)\n",
    "    #to close the window \n",
    "    if key== ord('c'):\n",
    "        break\n",
    "\n",
    "video.release()\n",
    "cv2.destroyAllWindows()"
   ]
  },
  {
   "cell_type": "markdown",
   "id": "5075a275",
   "metadata": {},
   "source": [
    "<img src='https://c.tenor.com/ewG5N8jfWAIAAAAM/magic-henning.gif'>"
   ]
  },
  {
   "cell_type": "code",
   "execution_count": null,
   "id": "a67a10ca",
   "metadata": {},
   "outputs": [],
   "source": []
  }
 ],
 "metadata": {
  "kernelspec": {
   "display_name": "Python 3",
   "language": "python",
   "name": "python3"
  },
  "language_info": {
   "codemirror_mode": {
    "name": "ipython",
    "version": 3
   },
   "file_extension": ".py",
   "mimetype": "text/x-python",
   "name": "python",
   "nbconvert_exporter": "python",
   "pygments_lexer": "ipython3",
   "version": "3.8.8"
  }
 },
 "nbformat": 4,
 "nbformat_minor": 5
}
